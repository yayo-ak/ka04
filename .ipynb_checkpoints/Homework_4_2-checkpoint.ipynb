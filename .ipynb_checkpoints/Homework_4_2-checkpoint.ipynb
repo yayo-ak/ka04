{
 "cells": [
  {
   "cell_type": "markdown",
   "metadata": {},
   "source": [
    "# Homework 4-2\n",
    "\n",
    "#### トピック: オブジェクト指向プログラミング, これまでの復習"
   ]
  },
  {
   "cell_type": "markdown",
   "metadata": {},
   "source": [
    "### Problem 1\n",
    "\n",
    "クラス **Student** を定義してください. このクラスが持つ属性は以下の通りです. \n",
    "\n",
    "```\n",
    "ID(ID)\n",
    "name(名前)\n",
    "score(テストの点数)\n",
    "```\n",
    "\n",
    "クラスの定義が完了したら, 以下の5つのインスタンス (5人の生徒) を作成してください. \n",
    "\n",
    "| s# | ID | name | score |\n",
    "|----|----|------|-------|\n",
    "| s1 |  1 |  \"A\" |   83  | \n",
    "| s2 |  2 |  \"B\" |   80  | \n",
    "| s3 |  3 |  \"C\" |   93  | \n",
    "| s4 |  4 |  \"D\" |   79  | \n",
    "| s5 |  5 |  \"E\" |   87  | "
   ]
  },
  {
   "cell_type": "code",
   "execution_count": 6,
   "metadata": {},
   "outputs": [
    {
     "data": {
      "text/plain": [
       "83"
      ]
     },
     "execution_count": 6,
     "metadata": {},
     "output_type": "execute_result"
    }
   ],
   "source": [
    "class Student():\n",
    "    def __init__(self,ID,name,score):\n",
    "        self.ID=ID\n",
    "        self.name=name\n",
    "        self.score=score\n",
    "        \n",
    "s1=Student(1,\"A\",83)\n",
    "s2=Student(2,\"B\",80)\n",
    "s3=Student(3,\"C\",93)\n",
    "s4=Student(4,\"D\",79)\n",
    "s5=Student(5,\"E\",87)\n",
    "s1.score"
   ]
  },
  {
   "cell_type": "markdown",
   "metadata": {},
   "source": [
    "### Problem 2\n",
    "\n",
    "生徒のテストの点数を記録し, 基本的な統計を取る **AutoGrader** クラスを定義してください. このクラスの持つ属性は以下の通りです.  \n",
    "\n",
    "``` \n",
    "scores(各生徒の点数を格納したリスト)  \n",
    "calcAverage(平均を計算する関数)\n",
    "calcMax(最高点を計算する関数)\n",
    "calcMin(最低点を計算する関数)\n",
    "```\n",
    "\n",
    "クラスの定義が完了したら, **Problem 1** で作成した5人の生徒の点数を用いてインスタンスを作成し, calcAverage, calcMax, calcMinを実行してください."
   ]
  },
  {
   "cell_type": "code",
   "execution_count": 7,
   "metadata": {},
   "outputs": [
    {
     "name": "stdout",
     "output_type": "stream",
     "text": [
      "[83, 80, 93, 79, 87]\n",
      "84.4\n",
      "79\n"
     ]
    }
   ],
   "source": [
    "class AutoGrader():\n",
    "    def __init__(self,s1,s2,s3,s4,s5):\n",
    "        self.s1=s1\n",
    "        self.s2=s2\n",
    "        self.s3=s3\n",
    "        self.s4=s4\n",
    "        self.s5=s5\n",
    "   \n",
    "    def scores(self):\n",
    "        score=[self.s1,self.s2,self.s3,self.s4,self.s5]\n",
    "        return score\n",
    "    \n",
    "    def calcAverage(self):\n",
    "        ave=(self.s1+self.s2+self.s3+self.s4+self.s5)/5\n",
    "        return ave\n",
    "    \n",
    "    def calcMin(self):\n",
    "        mi=min(self.s1,self.s2,self.s3,self.s4,self.s5)\n",
    "        return mi\n",
    "    \n",
    "auto=AutoGrader(s1.score,s2.score,s3.score,s4.score,s5.score) \n",
    "print(auto.scores())\n",
    "print(auto.calcAverage())\n",
    "print(auto.calcMin())"
   ]
  },
  {
   "cell_type": "markdown",
   "metadata": {},
   "source": [
    "### Problem 3\n",
    "\n",
    "Pythonの組み込みデータ構造の1つであるリスト (list) に関するメソッドを, 既存の組み込みメソッドを用いずに再実装してみましょう.  \n",
    "クラスの定義が完了したら, 下記のセルにあるテストコードを実行してみましょう."
   ]
  },
  {
   "cell_type": "code",
   "execution_count": 30,
   "metadata": {},
   "outputs": [],
   "source": [
    "class List():\n",
    "    # コンストラクター (このままでよい)\n",
    "    def __init__(self, elements):\n",
    "        self.elements = elements\n",
    "\n",
    "    # リストの最初の要素を返す\n",
    "    def first(self):\n",
    "        return self.elements[0]\n",
    "    \n",
    "    # リストの最後の要素を返す (ただしlen()メソッドは使用禁止)\n",
    "    def last(self):\n",
    "        return self.elements[-1]\n",
    "    \n",
    "    # リストの長さを返す (ただしlen()メソッドは使用禁止)\n",
    "    def findLength(self):\n",
    "        c=0\n",
    "        for i in self.elements:\n",
    "            c+=1\n",
    "        return c\n",
    "    \n",
    "    # リストの要素を逆にする (ただしreverse()メソッドは使用禁止)\n",
    "    def reverse(self):\n",
    "            re=[]\n",
    "            c=0\n",
    "            for i in self.elements:\n",
    "                c+=1\n",
    "            for i in range(c-1,-1,-1):\n",
    "                re.append(self.elements[i])\n",
    "            return re\n",
    "        \n",
    "    # 関数を取り, リストの各要素に関数を適用する (pythonのmap関数)\n",
    "    def mapNew(self,func):\n",
    "        ans=[]\n",
    "        for i in self.elements:\n",
    "            ans.append(func(i))\n",
    "        return ans\n",
    "    \n",
    "    # 関数を取り, リストの各要素に関数を適用する (pythonのfilter関数)\n",
    "    def filterNew(self,func):\n",
    "        ans=[]\n",
    "        for i in self.elements:\n",
    "            if func(i)==True:\n",
    "                   ans.append(i)\n",
    "        return ans"
   ]
  },
  {
   "cell_type": "code",
   "execution_count": 31,
   "metadata": {},
   "outputs": [
    {
     "name": "stdout",
     "output_type": "stream",
     "text": [
      "OK.\n"
     ]
    }
   ],
   "source": [
    " # mapNewで用いる関数\n",
    "def squared(x):\n",
    "     return x ** 2\n",
    "\n",
    " # filterNewで用いる関数\n",
    "def isPositive(x):\n",
    "     return x > 0\n",
    "\n",
    "try:\n",
    "     lst = List([-3, -6, 0, 5, 1, -9, 4])\n",
    "     assert(lst.first() == -3), \"Error: first()\"\n",
    "     assert(lst.last() == 4), \"Error: last()\"\n",
    "     assert(lst.findLength() == 7), \"Error: findLength()\"\n",
    "     assert(lst.reverse() == [4, -9, 1, 5, 0, -6, -3]), \"Error: reverse()\"\n",
    "     assert(lst.mapNew(squared) == [9, 36, 0, 25, 1, 81, 16]), \"Error: mapNew()\"\n",
    "     assert(lst.filterNew(isPositive) == [5, 1, 4]), \"Error: filterNew()\"\n",
    "except:\n",
    "     print(\"An error has occurred.\")\n",
    "else:\n",
    "     print(\"OK.\")"
   ]
  },
  {
   "cell_type": "markdown",
   "metadata": {},
   "source": [
    "### Problem 4\n",
    "\n",
    "自然数のリストが与えられたときに, そのリストの中で**3番目**に大きい数を返す関数 **`findThirdMax`** を定義してください.  \n",
    "ただし, Pythonの組み込み関数である **`max()`**, **`sort()`**, **`sorted()`**  は用いてはなりません.\n",
    "\n",
    "e.g.)  \n",
    "findThirdMax([3, 5, 1, 9, 8, 2]) => 5"
   ]
  },
  {
   "cell_type": "code",
   "execution_count": 37,
   "metadata": {},
   "outputs": [],
   "source": [
    "def findThirdMax(n):\n",
    "    for i in range(1,len(n)):\n",
    "        j=n[i]\n",
    "        while n[i]<n[i-1] and i>0:\n",
    "            n[i]=n[i-1]\n",
    "            i-=1\n",
    "            if n[i]>j:\n",
    "                n[i]=j\n",
    "    return n[len(n)-3]"
   ]
  },
  {
   "cell_type": "code",
   "execution_count": 38,
   "metadata": {},
   "outputs": [
    {
     "name": "stdout",
     "output_type": "stream",
     "text": [
      "OK.\n"
     ]
    }
   ],
   "source": [
    " try:\n",
    "     assert(findThirdMax([3, 5, 1, 9, 8, 2]) == 5), \"Error: [3, 5, 1, 9, 8, 2]\"\n",
    "     assert(findThirdMax([2, -4, -9, 8, 3, 0, 10, -3]) == 3), \"Error: [2, -4, -9, 8, 3, 0, 10, -3]\"\n",
    " except:\n",
    "     print(\"An error has occurred.\")\n",
    " else:\n",
    "     print(\"OK.\")"
   ]
  },
  {
   "cell_type": "markdown",
   "metadata": {},
   "source": [
    "### Problem 5\n",
    "\n",
    "計算式が逆ポーランド記法 (https://ja.wikipedia.org/wiki/逆ポーランド記法) で与えられたときに, その計算結果を返す関数 **`RPN`** を定義してください.  \n",
    "*ヒント: 下記のラムダ関数を含んだディクショナリー **operators** を上手く用いると比較的簡潔な実装が可能です.*\n",
    "\n",
    "e.g.)  \n",
    "RPN('1 2 +') => 3  \n",
    "RPN('4 2 5 * +') => 14"
   ]
  },
  {
   "cell_type": "code",
   "execution_count": 1,
   "metadata": {},
   "outputs": [],
   "source": [
    "operators = {\n",
    "    '+': lambda a, b: a + b,\n",
    "    '-': lambda a, b: a - b,\n",
    "    '*': lambda a, b: a * b,\n",
    "    '/': lambda a, b: a / b\n",
    "}"
   ]
  },
  {
   "cell_type": "code",
   "execution_count": 2,
   "metadata": {},
   "outputs": [
    {
     "name": "stdout",
     "output_type": "stream",
     "text": [
      "14\n",
      "-44\n"
     ]
    }
   ],
   "source": [
    "def RPN(s):\n",
    "    count=0\n",
    "    ans=[]\n",
    "    c=[i if (i==\"+\" or i==\"*\" or i==\"-\" or i==\"+\") else int(i) for i in s.split()]#文字列を分けていれる\n",
    "    for i in range(len(c)):\n",
    "        if (c[i]==\"+\" or c[i]==\"*\" or c[i]==\"-\" or c[i]==\"+\"):#c[i]が演算子の場合は、ansに追加した順番が新しい2つを取り出して計算\n",
    "            b=ans.pop()\n",
    "            a=ans.pop()\n",
    "            x=operators[c[i]](a,b)\n",
    "            ans.append(x)\n",
    "        else:\n",
    "            ans.append(c[i])#c[i]が数字の場合のみansに追加\n",
    "    return ans[-1]\n",
    "\n",
    "print(RPN('4 2 5 * +'))\n",
    "print(RPN('1 3 + 4 * 10 6 * -'))"
   ]
  },
  {
   "cell_type": "code",
   "execution_count": 3,
   "metadata": {},
   "outputs": [
    {
     "name": "stdout",
     "output_type": "stream",
     "text": [
      "3\n",
      "14\n",
      "-44\n",
      "OK.\n"
     ]
    }
   ],
   "source": [
    " try:\n",
    "     assert(RPN('1 2 +') == 3), \"Error: '1 2 +'\"\n",
    "     print(RPN('1 2 +'))\n",
    "     assert(RPN('4 2 5 * +') == 14), \"Error: '4 2 5 * +'\"\n",
    "     print(RPN('4 2 5 * +'))\n",
    "     assert(RPN('1 3 + 4 * 10 6 * -') == -44), \"Error: '1 3 + 4 * 10 6 * -'\"\n",
    "     print(RPN('1 3 + 4 * 10 6 * -'))\n",
    " except:\n",
    "     print(\"An error has occurred.\")\n",
    " else:\n",
    "     print(\"OK.\")"
   ]
  },
  {
   "cell_type": "code",
   "execution_count": null,
   "metadata": {},
   "outputs": [],
   "source": []
  }
 ],
 "metadata": {
  "kernelspec": {
   "display_name": "Python 3",
   "language": "python",
   "name": "python3"
  },
  "language_info": {
   "codemirror_mode": {
    "name": "ipython",
    "version": 3
   },
   "file_extension": ".py",
   "mimetype": "text/x-python",
   "name": "python",
   "nbconvert_exporter": "python",
   "pygments_lexer": "ipython3",
   "version": "3.7.4"
  }
 },
 "nbformat": 4,
 "nbformat_minor": 2
}
